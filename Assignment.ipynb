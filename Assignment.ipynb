{
 "cells": [
  {
   "cell_type": "markdown",
   "metadata": {},
   "source": [
    "# Import libraries"
   ]
  },
  {
   "cell_type": "code",
   "execution_count": null,
   "metadata": {},
   "outputs": [],
   "source": [
    "import pandas as pd\n",
    "import matplotlib.pyplot as plt\n",
    "from matplotlib import style\n",
    "style.use('ggplot')"
   ]
  },
  {
   "cell_type": "markdown",
   "metadata": {},
   "source": [
    "# Load the data"
   ]
  },
  {
   "cell_type": "code",
   "execution_count": null,
   "metadata": {},
   "outputs": [],
   "source": [
    "raw_data = pd.read_csv('https://raw.githubusercontent.com/fivethirtyeight/data/master/college-majors/recent-grads.csv')"
   ]
  },
  {
   "cell_type": "code",
   "execution_count": null,
   "metadata": {},
   "outputs": [],
   "source": [
    "raw_data"
   ]
  },
  {
   "cell_type": "markdown",
   "metadata": {},
   "source": [
    "# Considering Sample data"
   ]
  },
  {
   "cell_type": "code",
   "execution_count": null,
   "metadata": {},
   "outputs": [],
   "source": [
    "data = raw_data.iloc[:30,0:15]"
   ]
  },
  {
   "cell_type": "code",
   "execution_count": null,
   "metadata": {},
   "outputs": [],
   "source": [
    "data1 = data.copy()\n",
    "data1 = data1.drop(['Major_code','Major','Total','Men','Women','Major_category','ShareWomen','Sample_size','Employed','Full_time_year_round', 'Unemployed'], axis = 1)\n",
    "data1.to_csv('file.csv')"
   ]
  },
  {
   "cell_type": "markdown",
   "metadata": {},
   "source": [
    "# 1. plot a graph considering parameter individually"
   ]
  },
  {
   "cell_type": "code",
   "execution_count": null,
   "metadata": {},
   "outputs": [],
   "source": [
    "plt.plot(data1['Rank'], data1['Full_time'], color = 'Green', marker = 'o')\n",
    "plt.title('Simple line graph', fontsize = 14)\n",
    "plt.xlabel('College Rank')\n",
    "plt.ylabel('Full time')\n",
    "plt.show()\n",
    "\n",
    "plt.plot(data1['Part_time'],data1['Unemployment_rate'], color = 'red',marker = 'o')\n",
    "plt.title('Simple line graph' , fontsize = 14)\n",
    "plt.xlabel('Part time')\n",
    "plt.ylabel('Unemployment rate')\n",
    "plt.show()"
   ]
  },
  {
   "cell_type": "markdown",
   "metadata": {},
   "source": [
    "# 2. Plot the graph using all parameter in one "
   ]
  },
  {
   "cell_type": "code",
   "execution_count": null,
   "metadata": {},
   "outputs": [],
   "source": [
    "df = data1.copy()\n",
    "df.set_index('Rank',inplace = True)\n",
    "df.plot()\n",
    "plt.show()\n",
    "df.to_csv('File2.csv')"
   ]
  },
  {
   "cell_type": "markdown",
   "metadata": {},
   "source": [
    "# Bar graph between college rank , college jobs and non-college jobs"
   ]
  },
  {
   "cell_type": "code",
   "execution_count": null,
   "metadata": {},
   "outputs": [],
   "source": [
    "new_data = raw_data.copy()\n",
    "cols = [0,18,19]\n",
    "new_data = new_data[new_data.columns[cols]]\n",
    "final = new_data.iloc[:30,:]\n",
    "final\n",
    "plt.bar(final['Rank'],final['College_jobs'], color = 'blue', width = 0.9)\n",
    "plt.xlabel('College rank')\n",
    "plt.ylabel('College jobs')\n",
    "plt.show()\n",
    "\n",
    "plt.bar(final['Rank'],final['Non_college_jobs'], color = 'black',width = 0.9)\n",
    "plt.xlabel('College rank')\n",
    "plt.ylabel('non college jobs')\n",
    "plt.show()\n",
    "final.to_csv('File3.csv')"
   ]
  },
  {
   "cell_type": "code",
   "execution_count": null,
   "metadata": {},
   "outputs": [],
   "source": []
  }
 ],
 "metadata": {
  "kernelspec": {
   "display_name": "Python 3",
   "language": "python",
   "name": "python3"
  },
  "language_info": {
   "codemirror_mode": {
    "name": "ipython",
    "version": 3
   },
   "file_extension": ".py",
   "mimetype": "text/x-python",
   "name": "python",
   "nbconvert_exporter": "python",
   "pygments_lexer": "ipython3",
   "version": "3.7.4"
  }
 },
 "nbformat": 4,
 "nbformat_minor": 2
}
